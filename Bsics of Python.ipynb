{
 "cells": [
  {
   "cell_type": "code",
   "execution_count": 10,
   "id": "3053521c-cd45-4528-99a3-8795bb56ebb3",
   "metadata": {},
   "outputs": [
    {
     "name": "stdin",
     "output_type": "stream",
     "text": [
      "Enter your birth year to know how old are you?:  2004\n"
     ]
    },
    {
     "name": "stdout",
     "output_type": "stream",
     "text": [
      "20\n"
     ]
    }
   ],
   "source": [
    "# Age Calculater\n",
    "birth_year=int(input(\"Enter your birth year to know how old are you?: \"))\n",
    "age = 2024-birth_year\n",
    "print(age)"
   ]
  },
  {
   "cell_type": "code",
   "execution_count": 14,
   "id": "4b603048-166a-4994-90c9-304ce37acc16",
   "metadata": {},
   "outputs": [
    {
     "name": "stdout",
     "output_type": "stream",
     "text": [
      "20000.0\n"
     ]
    }
   ],
   "source": [
    "# discount of house rent through the if condition\n",
    "price_of_housef=1000000\n",
    "is_good_cradit=False\n",
    "\n",
    "if is_good_cradit==True:\n",
    "    discount=price_of_housef*.01\n",
    "    print(discount)\n",
    "else:\n",
    "    discount=price_of_housef*.02\n",
    "    print(discount)"
   ]
  },
  {
   "cell_type": "code",
   "execution_count": 15,
   "id": "10c1cb29-83b8-46e1-8b6d-248a9820b74b",
   "metadata": {},
   "outputs": [
    {
     "name": "stdin",
     "output_type": "stream",
     "text": [
      "Enter Your weight in Pound:  160\n"
     ]
    },
    {
     "name": "stdout",
     "output_type": "stream",
     "text": [
      "72.0\n"
     ]
    }
   ],
   "source": [
    "# Pound to kg weight converter\n",
    "lbs=int(input(\"Enter Your weight in Pound: \"))\n",
    "w_kg=lbs*0.45\n",
    "print(w_kg)"
   ]
  },
  {
   "cell_type": "code",
   "execution_count": 2,
   "id": "a2d17d59-11cb-4177-8573-77f4d88d5ab5",
   "metadata": {},
   "outputs": [
    {
     "name": "stdout",
     "output_type": "stream",
     "text": [
      "Not eligible for loan\n"
     ]
    }
   ],
   "source": [
    "# logical operator \n",
    "has_good_credit=True\n",
    "has_criminal_record=True\n",
    "if has_good_credit and not has_criminal_record:\n",
    "    print(\"Eligible for loan\")\n",
    "else:\n",
    "    print(\"Not eligible for loan\")"
   ]
  },
  {
   "cell_type": "code",
   "execution_count": 19,
   "id": "7671677c-9d00-4af0-8a6b-61530b590a06",
   "metadata": {},
   "outputs": [
    {
     "name": "stdin",
     "output_type": "stream",
     "text": [
      "Enter Your Name Please:  Shaoib Ali Shahani\n"
     ]
    },
    {
     "name": "stdout",
     "output_type": "stream",
     "text": [
      "Name looks good\n"
     ]
    }
   ],
   "source": [
    "# Comparsion operator\n",
    "name=input(\"Enter Your Name Please: \")\n",
    "if len(name)<3:\n",
    "    print(\"Name must be at least 3 character \")\n",
    "elif len(name)>50:\n",
    "    print(\"Name must be minimum of 50 characters! \")\n",
    "else:\n",
    "    print(\"Name looks good\")"
   ]
  },
  {
   "cell_type": "code",
   "execution_count": 4,
   "id": "62fc9618-e2ca-46fa-a340-a52c11f5ce36",
   "metadata": {},
   "outputs": [
    {
     "name": "stdin",
     "output_type": "stream",
     "text": [
      "Guess num:  5\n",
      "Guess num:  5\n",
      "Guess num:  9\n"
     ]
    },
    {
     "name": "stdout",
     "output_type": "stream",
     "text": [
      "You won\n"
     ]
    }
   ],
   "source": [
    "# guessing the secret number game\n",
    "secret_num=9\n",
    "guess_coun=0\n",
    "gues_limit=3\n",
    "while guess_coun<gues_limit:\n",
    "    guess=int(input(\"Guess num: \"))\n",
    "    guess_coun+=1\n",
    "    if guess==secret_num:\n",
    "        print(\"You won\")\n",
    "        break\n",
    "else:\n",
    "    print(\"You loss the game ):\")"
   ]
  },
  {
   "cell_type": "code",
   "execution_count": 30,
   "id": "92f987c3-8d44-4b09-93a3-ffe3b50920ec",
   "metadata": {},
   "outputs": [
    {
     "name": "stdin",
     "output_type": "stream",
     "text": [
      ">> stop\n"
     ]
    },
    {
     "name": "stdout",
     "output_type": "stream",
     "text": [
      "car is already started.\n"
     ]
    },
    {
     "name": "stdin",
     "output_type": "stream",
     "text": [
      ">> sopt\n"
     ]
    },
    {
     "name": "stdout",
     "output_type": "stream",
     "text": [
      "Sorry i don't understand. \n"
     ]
    },
    {
     "name": "stdin",
     "output_type": "stream",
     "text": [
      ">> stop\n"
     ]
    },
    {
     "name": "stdout",
     "output_type": "stream",
     "text": [
      "car is already started.\n"
     ]
    },
    {
     "name": "stdin",
     "output_type": "stream",
     "text": [
      ">> qit\n"
     ]
    },
    {
     "name": "stdout",
     "output_type": "stream",
     "text": [
      "Sorry i don't understand. \n"
     ]
    },
    {
     "name": "stdin",
     "output_type": "stream",
     "text": [
      ">> quit\n"
     ]
    }
   ],
   "source": [
    "# car game\n",
    "started=False\n",
    "while True:\n",
    "    command=input(\">>\")\n",
    "    if command.lower()==\"start\":\n",
    "        if started:\n",
    "            print(\"car is already started. \")\n",
    "        else:\n",
    "            started=True\n",
    "            print(\"car started\")\n",
    "    elif command.lower()==\"stop\":\n",
    "        if not started:\n",
    "            print(\"car is already stopped.\")\n",
    "        else:\n",
    "            started=False\n",
    "            print(\"car stopped\")\n",
    "    elif command.lower()==\"help\":\n",
    "        print(\"\"\"\n",
    "        Start - To start the car\n",
    "        Stop - To stop the car\n",
    "        quit - To quit\n",
    "        \"\"\")\n",
    "    elif command.lower()==\"quit\":\n",
    "        break\n",
    "    else:\n",
    "        print(\"Sorry i don't understand. \")"
   ]
  },
  {
   "cell_type": "code",
   "execution_count": 7,
   "id": "daf10d59-1646-4d37-aede-cd7878f1c61e",
   "metadata": {},
   "outputs": [
    {
     "name": "stdout",
     "output_type": "stream",
     "text": [
      "60\n"
     ]
    }
   ],
   "source": [
    "total=0\n",
    "lisst=[10,20,30]\n",
    "for i in lisst:\n",
    "    total=total+i\n",
    "print(total)"
   ]
  },
  {
   "cell_type": "code",
   "execution_count": 37,
   "id": "0a84cb6a-519e-4056-a8b2-2ebff76d5767",
   "metadata": {},
   "outputs": [
    {
     "name": "stdout",
     "output_type": "stream",
     "text": [
      "0  0\n",
      "0  1\n",
      "0  2\n",
      "1  0\n",
      "1  1\n",
      "1  2\n"
     ]
    }
   ],
   "source": [
    "for x in range(2):\n",
    "    for y in range(3):\n",
    "        print(f\"{x}  {y}\")"
   ]
  },
  {
   "cell_type": "code",
   "execution_count": 9,
   "id": "b7355d95-8084-4e8d-b234-c23cfb187dbb",
   "metadata": {},
   "outputs": [
    {
     "name": "stdout",
     "output_type": "stream",
     "text": [
      "FFFFFFFFFFFFFFFFFFFFFFFFFFFFFFFFFFFFFFFFFFFFFFFFFF\n",
      "FFFFFFFFFFFFFFFFFFFFFFFFFFFFFFFFFFFFFFFFFFFFFFFFFF\n",
      "FFFFFFFFFFFFFFFFFFFFFFFFFFFFFFFFFFFFFFFFFFFFFFFFFF\n",
      "FFFFFFFFFFFFFFFFFFFFFFFFFFFFFFFFFFFFFFFFFFFFFFFFFF\n",
      "FFFFFFFFFFFFFFFFFFFF\n",
      "FFFFFFFFFFFFFFFFFFFF\n",
      "FFFFFFFFFFFFFFFFFFFF\n",
      "FFFFFFFFFFFFFFFFFFFF\n",
      "FFFFFFFFFFFFFFFFFFFF\n",
      "FFFFFFFFFFFFFFFFFFFF\n",
      "FFFFFFFFFFFFFFFFFFFF\n",
      "FFFFFFFFFFFFFFFFFFFF\n",
      "FFFFFFFFFFFFFFFFFFFFFFFFFFFFFFFFFFFFFFFFFFFFFFFFFF\n",
      "FFFFFFFFFFFFFFFFFFFFFFFFFFFFFFFFFFFFFFFFFFFFFFFFFF\n",
      "FFFFFFFFFFFFFFFFFFFFFFFFFFFFFFFFFFFFFFFFFFFFFFFFFF\n",
      "FFFFFFFFFFFFFFFFFFFF\n",
      "FFFFFFFFFFFFFFFFFFFF\n",
      "FFFFFFFFFFFFFFFFFFFF\n",
      "FFFFFFFFFFFFFFFFFFFF\n",
      "FFFFFFFFFFFFFFFFFFFF\n",
      "FFFFFFFFFFFFFFFFFFFF\n",
      "FFFFFFFFFFFFFFFFFFFF\n",
      "FFFFFFFFFFFFFFFFFFFF\n",
      "FFFFFFFFFFFFFFFFFFFF\n"
     ]
    }
   ],
   "source": [
    "numbers=[50,50,50,50,20,20,20,20,20,20,20,20,50,50,50,20,20,20,20,20,20,20,20,20]\n",
    "for i in numbers:\n",
    "    output=''\n",
    "    for j in range(i):\n",
    "        output +='F'\n",
    "    print(output)"
   ]
  },
  {
   "cell_type": "code",
   "execution_count": 52,
   "id": "b922205d-0d28-401d-8c5f-240464b35cf7",
   "metadata": {},
   "outputs": [
    {
     "name": "stdout",
     "output_type": "stream",
     "text": [
      "13\n"
     ]
    }
   ],
   "source": [
    "numbers=[3,5,13,7,9,11]\n",
    "max=numbers[0]\n",
    "for number in numbers:\n",
    "    if number>max:\n",
    "        max=number\n",
    "print(max)"
   ]
  },
  {
   "cell_type": "code",
   "execution_count": 54,
   "id": "3e3810fc-322f-4297-9235-028738d1f585",
   "metadata": {},
   "outputs": [
    {
     "name": "stdout",
     "output_type": "stream",
     "text": [
      "[50, 20]\n"
     ]
    }
   ],
   "source": [
    "unique=[]\n",
    "for number in numbers:\n",
    "    if number not in unique:\n",
    "        unique.append(number)\n",
    "print(unique)"
   ]
  },
  {
   "cell_type": "code",
   "execution_count": 58,
   "id": "ea9e2da9-f77f-484d-956d-afd15067bec3",
   "metadata": {},
   "outputs": [
    {
     "name": "stdout",
     "output_type": "stream",
     "text": [
      "2\n"
     ]
    }
   ],
   "source": [
    "coordinates=(1,2,3)\n",
    "x=coordinates[0]\n",
    "y=coordinates[1]\n",
    "z=coordinates[2]\n",
    "x,y,z=coordinates\n",
    "print(y)"
   ]
  },
  {
   "cell_type": "code",
   "execution_count": 60,
   "id": "ee08eca2-8f43-4958-8da9-a33a6a4ba6c1",
   "metadata": {},
   "outputs": [
    {
     "name": "stdin",
     "output_type": "stream",
     "text": [
      "Enter the numbers you want to convert into alphabet ewr23432534653546763\n"
     ]
    },
    {
     "name": "stdout",
     "output_type": "stream",
     "text": [
      "! ! ! Two Three Four Three Two Five Three Four Six Five Three Five Four Six Seven Six Three \n"
     ]
    }
   ],
   "source": [
    "# number convert to alphabet\n",
    "number=input(\"Enter the numbers you want to convert into alphabet\")\n",
    "digit_map={\n",
    "    \"1\":\"One\",\n",
    "    \"2\":\"Two\",\n",
    "    \"3\":\"Three\",\n",
    "    \"4\":\"Four\",\n",
    "    \"5\":\"Five\",\n",
    "    \"6\":\"Six\",\n",
    "    \"7\":\"Seven\",\n",
    "    \"8\":\"Eight\",\n",
    "    \"9\":\"Nine\",\n",
    "    \"0\":\"Zero\"  \n",
    "}\n",
    "output=''\n",
    "for ch in number:\n",
    "    output += digit_map.get(ch, \"!\")+\" \"\n",
    "print(output)"
   ]
  },
  {
   "cell_type": "code",
   "execution_count": 62,
   "id": "859bbfbe-4180-4d2c-948b-4fe387b9685d",
   "metadata": {},
   "outputs": [
    {
     "name": "stdout",
     "output_type": "stream",
     "text": [
      "Start\n",
      "Hi There\n",
      "Welcome to my firt program\n",
      "Finish\n"
     ]
    }
   ],
   "source": [
    "# fucntion\n",
    "def greet_user():\n",
    "    print(\"Hi There\")\n",
    "    print(\"Welcome to my firt program\")\n",
    "print(\"Start\")\n",
    "greet_user()\n",
    "print(\"Finish\")"
   ]
  },
  {
   "cell_type": "code",
   "execution_count": 64,
   "id": "42c11c3b-0dea-47d0-8524-03a381c536ad",
   "metadata": {},
   "outputs": [
    {
     "name": "stdout",
     "output_type": "stream",
     "text": [
      "Welcome Shoaib Shahani\n",
      "This is my first program\n"
     ]
    }
   ],
   "source": [
    "def welcome(first, last):\n",
    "    print(f\"Welcome {first} {last}\")\n",
    "    print(\"This is my first program\")\n",
    "\n",
    "welcome('Shoaib', 'Shahani')"
   ]
  },
  {
   "cell_type": "code",
   "execution_count": 65,
   "id": "924883d9-790b-4d2e-9f14-8e860885a5c0",
   "metadata": {},
   "outputs": [
    {
     "name": "stdin",
     "output_type": "stream",
     "text": [
      "Enter the x:  5\n",
      "Enter the y:  5\n"
     ]
    },
    {
     "name": "stdout",
     "output_type": "stream",
     "text": [
      "Addition =  10\n"
     ]
    }
   ],
   "source": [
    "def add(a, b):\n",
    "    c=a+b\n",
    "    return c\n",
    "\n",
    "x=int(input(\"Enter the x: \"))\n",
    "y=int(input(\"Enter the y: \"))\n",
    "z=add(x,y)\n",
    "print(\"Addition = \", z)"
   ]
  },
  {
   "cell_type": "code",
   "execution_count": 66,
   "id": "7f007ccd-5de0-4805-b962-3cea4ece6613",
   "metadata": {},
   "outputs": [
    {
     "name": "stdin",
     "output_type": "stream",
     "text": [
      "Enter the value of a:  5\n",
      "Enter the value of b:  5\n"
     ]
    },
    {
     "name": "stdout",
     "output_type": "stream",
     "text": [
      "10\n"
     ]
    }
   ],
   "source": [
    "def add():\n",
    "    a=int(input(\"Enter the value of a: \"))\n",
    "    b=int(input(\"Enter the value of b: \"))\n",
    "    c=a+b\n",
    "    return c\n",
    "sum = add()\n",
    "print(sum)"
   ]
  },
  {
   "cell_type": "code",
   "execution_count": 70,
   "id": "28cae430-6dde-4e49-a0e7-d2628c847fb7",
   "metadata": {},
   "outputs": [
    {
     "name": "stdin",
     "output_type": "stream",
     "text": [
      ">> this bad day for me ):\n"
     ]
    },
    {
     "name": "stdout",
     "output_type": "stream",
     "text": [
      " this bad day for me 😊 \n"
     ]
    }
   ],
   "source": [
    "def emoji_converter(message):\n",
    "    words=message.split(\" \")\n",
    "    emoji={\n",
    "        \":(\":\"☹️\",\n",
    "        \"):\":\"😊\"\n",
    "    }\n",
    "    output=\" \"\n",
    "    for word in words:\n",
    "        output +=emoji.get(word, word)+\" \"\n",
    "    print(output)\n",
    "\n",
    "message=input(\">>\")\n",
    "emoji_converter(message)"
   ]
  },
  {
   "cell_type": "code",
   "execution_count": 4,
   "id": "b7cd7efe-ca57-4401-8708-305643f6f084",
   "metadata": {},
   "outputs": [
    {
     "name": "stdin",
     "output_type": "stream",
     "text": [
      "Age:  4\n"
     ]
    },
    {
     "name": "stdout",
     "output_type": "stream",
     "text": [
      "5000.0\n"
     ]
    }
   ],
   "source": [
    "# Exception in python\n",
    "try:\n",
    "    age=int(input(\"Age: \"))\n",
    "    income=20000\n",
    "    risk=income/age\n",
    "    print(risk)\n",
    "except ZeroDivisionError:\n",
    "    print(\"Age can not be 0\")\n",
    "except ValueError:\n",
    "    print(\"Invalid Value\")"
   ]
  },
  {
   "cell_type": "code",
   "execution_count": 22,
   "id": "76aab627-32a5-4898-8c0c-b93f528f5519",
   "metadata": {},
   "outputs": [
    {
     "data": {
      "image/png": "[encoded data removed]",
      "text/plain": [
       "<Figure size 640x480 with 1 Axes>"
      ]
     },
     "metadata": {},
     "output_type": "display_data"
    }
   ],
   "source": [
    "import matplotlib.pyplot as plt\n",
    "import numpy as np\n",
    "labels=np.array(['A','B','C','D','E'])\n",
    "data=np.array([4,5,3,4,2])\n",
    "angles=np.linspace(0,2*np.pi,len(labels),endpoint=False)\n",
    "data=np.concatenate((data, [data[0]]))\n",
    "angles=np.concatenate((angles, [angles[0]]))\n",
    "plt.polar(angles, data, marker='o')\n",
    "plt.fill(angles, data, alpha=0.25)\n",
    "plt.title('Radar Chart')\n",
    "plt.show()\n",
    "#clcoding.com"
   ]
  },
  {
   "cell_type": "code",
   "execution_count": null,
   "id": "d68cf5cd-1795-4c33-b78b-8818919ae533",
   "metadata": {},
   "outputs": [],
   "source": []
  }
 ],
 "metadata": {
  "kernelspec": {
   "display_name": "Python 3 (ipykernel)",
   "language": "python",
   "name": "python3"
  },
  "language_info": {
   "codemirror_mode": {
    "name": "ipython",
    "version": 3
   },
   "file_extension": ".py",
   "mimetype": "text/x-python",
   "name": "python",
   "nbconvert_exporter": "python",
   "pygments_lexer": "ipython3",
   "version": "3.11.5"
  }
 },
 "nbformat": 4,
 "nbformat_minor": 5
}
