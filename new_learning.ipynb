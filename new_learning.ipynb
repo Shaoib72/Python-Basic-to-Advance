{
 "cells": [
  {
   "cell_type": "code",
   "execution_count": 3,
   "id": "6a33e635-ba2e-4d73-ad42-2f8e6f07e1ac",
   "metadata": {},
   "outputs": [],
   "source": [
    "def welcome(first_name, last_name):\n",
    "    print(f\"Hi {first_name}  {last_name}\")\n",
    "    print(\"Welcome to our first program\")"
   ]
  },
  {
   "cell_type": "code",
   "execution_count": 4,
   "id": "c964fee6-9693-422c-b714-c40a2786151a",
   "metadata": {},
   "outputs": [
    {
     "name": "stdout",
     "output_type": "stream",
     "text": [
      "Hi Shoaib Ali  Shahani\n",
      "Welcome to our first program\n"
     ]
    }
   ],
   "source": [
    "welcome(\"Shoaib Ali\", \"Shahani\")"
   ]
  },
  {
   "cell_type": "code",
   "execution_count": 1,
   "id": "27646b99-0991-4157-a1ad-dc6297535e05",
   "metadata": {},
   "outputs": [
    {
     "name": "stdout",
     "output_type": "stream",
     "text": [
      "Chair One Person is Waqas \n",
      "Chair Two Person is Sijjad\n",
      "Chair Three Person is Shoaib \n"
     ]
    }
   ],
   "source": [
    "#keywork arguments and positional arguments\n",
    "def library(chair1, chair2, chair3):\n",
    "    print(f\"Chair One Person is {chair1} \")\n",
    "    print(\"Chair Two Person is \"+chair2)\n",
    "    print(\"Chair Three Person is \"+chair3)\n",
    "library(\"Waqas\", chair2=\"Sijjad\", chair3=\"Shoaib \")"
   ]
  },
  {
   "cell_type": "code",
   "execution_count": 3,
   "id": "1aea722f-0d56-4c47-b8a6-8abebe3dda58",
   "metadata": {},
   "outputs": [
    {
     "data": {
      "text/plain": [
       "50"
      ]
     },
     "execution_count": 3,
     "metadata": {},
     "output_type": "execute_result"
    }
   ],
   "source": [
    "#RETURN STATEMENT\n",
    "def add(a,b):\n",
    "    c=a+b\n",
    "    return c\n",
    "add(20,30)"
   ]
  },
  {
   "cell_type": "code",
   "execution_count": 3,
   "id": "08513e2f-a6bd-4b8c-a47c-87033af7ff9c",
   "metadata": {},
   "outputs": [
    {
     "name": "stdin",
     "output_type": "stream",
     "text": [
      "Enter x value:  23\n",
      "Enter y value:  32\n"
     ]
    }
   ],
   "source": [
    "x=int(input(\"Enter x value: \"))\n",
    "y=int(input(\"Enter y value: \"))"
   ]
  },
  {
   "cell_type": "code",
   "execution_count": 4,
   "id": "fe565335-858d-4056-988a-5bed03ee6b2c",
   "metadata": {},
   "outputs": [
    {
     "name": "stdout",
     "output_type": "stream",
     "text": [
      "Addition is:  55\n"
     ]
    }
   ],
   "source": [
    "z=add(x,y)\n",
    "print(\"Addition is: \", z)"
   ]
  },
  {
   "cell_type": "code",
   "execution_count": 8,
   "id": "ce262eb5-e537-4e20-8d1f-b9d1cd8ce343",
   "metadata": {},
   "outputs": [
    {
     "name": "stdin",
     "output_type": "stream",
     "text": [
      "Enter a:  32\n",
      "Enter b:  23\n"
     ]
    },
    {
     "name": "stdout",
     "output_type": "stream",
     "text": [
      "Addition is: 55\n"
     ]
    }
   ],
   "source": [
    "def add():\n",
    "    a=int(input(\"Enter a: \"))\n",
    "    b=int(input(\"Enter b: \"))\n",
    "    c=a+b\n",
    "    return c\n",
    "sum=add()\n",
    "print(f\"Addition is: {sum}\")"
   ]
  },
  {
   "cell_type": "code",
   "execution_count": 13,
   "id": "fa21a7c8-140d-4fc7-95b6-2d9fcec1bb8c",
   "metadata": {},
   "outputs": [
    {
     "name": "stdin",
     "output_type": "stream",
     "text": [
      "How is your day:  i am very happy :)\n"
     ]
    },
    {
     "name": "stdout",
     "output_type": "stream",
     "text": [
      " i am very happy 😊 \n"
     ]
    }
   ],
   "source": [
    "#Emoji Converter in functions self exercise\n",
    "def emoji_converter(message):\n",
    "    words=message.split(\" \")\n",
    "    emoji={\n",
    "        \":)\":\"😊\",\n",
    "        \":(\": \"😒\"\n",
    "    }\n",
    "    output=(\" \")\n",
    "    for word in words:\n",
    "        output +=emoji.get(word,word)+\" \"\n",
    "    return output\n",
    "message = input(\"How is your day: \")\n",
    "print(emoji_converter(message))\n"
   ]
  },
  {
   "cell_type": "code",
   "execution_count": 22,
   "id": "7155f57d-36fb-447e-8be6-814fc018c990",
   "metadata": {},
   "outputs": [
    {
     "name": "stdin",
     "output_type": "stream",
     "text": [
      "Age:  34\n"
     ]
    },
    {
     "name": "stdout",
     "output_type": "stream",
     "text": [
      "588.2352941176471\n"
     ]
    }
   ],
   "source": [
    "try:\n",
    "    age=int(input('Age: '))\n",
    "    income=20000\n",
    "    risk=income/age\n",
    "    print(risk)\n",
    "except ZeroDivisionError:\n",
    "    print(\"Age can not be 0.\")\n",
    "except ValueError:\n",
    "    print(\"Invalid Value.\")"
   ]
  },
  {
   "cell_type": "code",
   "execution_count": 23,
   "id": "eb4d2d63-9e03-4df9-b07f-451029cc1197",
   "metadata": {},
   "outputs": [
    {
     "name": "stdout",
     "output_type": "stream",
     "text": [
      "10\n"
     ]
    }
   ],
   "source": [
    "#Creating a simple class\n",
    "class DemoClass:\n",
    "    a=10\n",
    "demoobject=DemoClass()\n",
    "print(demoobject.a)"
   ]
  },
  {
   "cell_type": "code",
   "execution_count": 26,
   "id": "a92b1401-2776-4683-9f6c-af768c418669",
   "metadata": {},
   "outputs": [
    {
     "name": "stdout",
     "output_type": "stream",
     "text": [
      "60\n"
     ]
    }
   ],
   "source": [
    "#Creating a simple class with simple method\n",
    "class DemoClass:\n",
    "    a=10\n",
    "    def add(elf):\n",
    "        print(39+21)\n",
    "demoobject=DemoClass()\n",
    "demoobject.add();"
   ]
  },
  {
   "cell_type": "code",
   "execution_count": 32,
   "id": "8e4b90bc-0034-4097-89cf-e60f77918f4d",
   "metadata": {},
   "outputs": [
    {
     "name": "stdout",
     "output_type": "stream",
     "text": [
      "This is not called through object\n",
      "100\n",
      "50\n"
     ]
    }
   ],
   "source": [
    "class DemoClass:\n",
    "    a=10\n",
    "    def __init__(self):\n",
    "        print(\"This is not called through object\")\n",
    "    def square(self):\n",
    "        self.c=self.a*self.a\n",
    "        print(self.c)\n",
    "    def add(self, a, b):\n",
    "        print(a+b)\n",
    "obj=DemoClass()\n",
    "obj.square()\n",
    "obj.add(20,30)\n",
    "        "
   ]
  },
  {
   "cell_type": "code",
   "execution_count": 1,
   "id": "efeb117f-e966-4ac1-a276-ed4de57c3795",
   "metadata": {},
   "outputs": [
    {
     "name": "stdout",
     "output_type": "stream",
     "text": [
      "Score:  3\n"
     ]
    }
   ],
   "source": [
    "#Encapsulation\n",
    "class Game:\n",
    "    def __init__(self):\n",
    "        self.__score=0\n",
    "    def getscore(self):\n",
    "        print(\"Score: \", self.__score)\n",
    "    def got_one_point(self):\n",
    "        self.__score +=1\n",
    "\n",
    "obj=Game()\n",
    "# obj.__score=100\n",
    "obj.got_one_point()\n",
    "obj.got_one_point()\n",
    "obj.got_one_point()\n",
    "obj.getscore()"
   ]
  },
  {
   "cell_type": "code",
   "execution_count": null,
   "id": "6bfacb60-7412-47e7-8455-2ec9f2a4f33e",
   "metadata": {},
   "outputs": [],
   "source": []
  },
  {
   "cell_type": "code",
   "execution_count": 11,
   "id": "fe5aff8b-e610-4511-8a52-bc248b53490f",
   "metadata": {},
   "outputs": [
    {
     "name": "stdout",
     "output_type": "stream",
     "text": [
      "96\n"
     ]
    }
   ],
   "source": [
    "#Method overloading\n",
    "class Myclass:\n",
    "    def sum(self, a=None, b=None, c=None):\n",
    "        if a!=None and b!=None and c!=None:\n",
    "            s=a+b+c\n",
    "        elif a!=None and b!=None:\n",
    "            s=a+b\n",
    "        else:\n",
    "            s=\"Provide at least two numbers\"\n",
    "        return s\n",
    "obj=Myclass()\n",
    "print(obj.sum(20,76))\n",
    "        "
   ]
  },
  {
   "cell_type": "code",
   "execution_count": 2,
   "id": "41f0e77b-ca2b-4d15-9f16-0d6c00a45238",
   "metadata": {},
   "outputs": [
    {
     "name": "stdout",
     "output_type": "stream",
     "text": [
      "300\n"
     ]
    }
   ],
   "source": [
    "#Operator overloading\n",
    "class A:\n",
    "    def __init__(self, x):\n",
    "        self.x=x\n",
    "    def __add__(self, other):\n",
    "        return self.x+other.x\n",
    "class B:\n",
    "    def __init__(self, x):\n",
    "        self.x=x\n",
    "a=A(100)\n",
    "b=B(200)\n",
    "print(a+b)\n"
   ]
  },
  {
   "cell_type": "code",
   "execution_count": 4,
   "id": "c83433bb-199c-4a12-a2c1-b1b869c8f18c",
   "metadata": {},
   "outputs": [
    {
     "name": "stdout",
     "output_type": "stream",
     "text": [
      "30\n",
      "This is moving method\n"
     ]
    }
   ],
   "source": [
    "# Constructor by mosh\n",
    "class Point:\n",
    "    def __init__(self,x,y):\n",
    "        self.x=x\n",
    "        self.y=y\n",
    "    def move(self):\n",
    "        print(\"This is moving method\")\n",
    "\n",
    "point=Point(10,20)\n",
    "print(point.x+point.y)\n",
    "point.move()"
   ]
  },
  {
   "cell_type": "code",
   "execution_count": 10,
   "id": "04d26bef-c8d8-4d33-9e5f-6aeb974d4328",
   "metadata": {},
   "outputs": [
    {
     "name": "stdout",
     "output_type": "stream",
     "text": [
      "Hi This is  Sijjad Shahani\n",
      "Hi This is  Shoaib Shahani\n"
     ]
    }
   ],
   "source": [
    "# another program\n",
    "class Person:\n",
    "    def __init__(self,name):\n",
    "        self.name=name\n",
    "    def talk(self):\n",
    "        print(\"Hi This is \",self.name)\n",
    "\n",
    "sijjad=Person(\"Sijjad Shahani\")\n",
    "shoaib=Person(\"Shoaib Shahani\")\n",
    "sijjad.talk()\n",
    "shoaib.talk()"
   ]
  },
  {
   "cell_type": "code",
   "execution_count": 24,
   "id": "6d302a11-1e6c-49a0-957f-02dc6e397ce4",
   "metadata": {},
   "outputs": [],
   "source": [
    "# Inheritance with Mosh\n",
    "class Mammal:\n",
    "    def walk(self):\n",
    "        print(\"Walk\")\n",
    "class Dog(Mammal):\n",
    "    def walk(self):\n",
    "        print(\"Dogs are walking with there four legs\")\n",
    "class Cat(Mammal):\n",
    "    pass\n",
    "# Creating Objects\n",
    "dog=Dog()\n",
    "super.dog.walk()\n",
    "dog.walk()\n"
   ]
  },
  {
   "cell_type": "code",
   "execution_count": 32,
   "id": "253b189f-0a1a-4f69-9430-55c0b39f444e",
   "metadata": {},
   "outputs": [
    {
     "name": "stdout",
     "output_type": "stream",
     "text": [
      "Walk\n",
      "Dogs are walking with their four legs\n",
      "Cats are walking gracefully\n"
     ]
    }
   ],
   "source": [
    "# Inheritance with Mosh\n",
    "class Mammal:\n",
    "    def walk(self):\n",
    "        print(\"Walk\")\n",
    "\n",
    "class Dog(Mammal):\n",
    "    def walk(self):\n",
    "        super().walk()  # This calls the walk method of the Mammal class\n",
    "        print(\"Dogs are walking with their four legs\")\n",
    "\n",
    "class Cat(Mammal):\n",
    "    def walk(self):\n",
    "        print(\"Cats are walking gracefully\")\n",
    "\n",
    "# Creating Objects\n",
    "dog = Dog()\n",
    "cat = Cat()\n",
    "\n",
    "dog.walk()\n",
    "cat.walk()\n"
   ]
  },
  {
   "cell_type": "code",
   "execution_count": 1,
   "id": "f04230aa-e93f-4492-97cf-f6b657393ae8",
   "metadata": {},
   "outputs": [],
   "source": [
    "## Random Class \n",
    "import random"
   ]
  },
  {
   "cell_type": "code",
   "execution_count": 5,
   "id": "c7a6c993-e63c-478c-985a-c35cf0414ce8",
   "metadata": {},
   "outputs": [
    {
     "name": "stdout",
     "output_type": "stream",
     "text": [
      "0.8798851764186313\n",
      "29\n",
      "0.9850041622824639\n",
      "13\n",
      "0.826594478684616\n",
      "37\n"
     ]
    }
   ],
   "source": [
    "for i in range(3):\n",
    "    print(random.random())\n",
    "    print(random.randint(10,39))"
   ]
  },
  {
   "cell_type": "code",
   "execution_count": 6,
   "id": "2f6d6196-12c3-4b11-bf3f-52f66b296ee9",
   "metadata": {},
   "outputs": [],
   "source": [
    "members=[\"Shah Jahan\", \"Shoaib Ali\", \"Sijjad Ahmed\"]\n",
    "#Chosing the leader by random method\n",
    "leader=random.choice(members)"
   ]
  },
  {
   "cell_type": "code",
   "execution_count": 7,
   "id": "54bf7bbc-bbed-4b5c-a43e-b6ad96d7ea0e",
   "metadata": {},
   "outputs": [
    {
     "name": "stdout",
     "output_type": "stream",
     "text": [
      "Shoaib Ali\n"
     ]
    }
   ],
   "source": [
    "print(leader)"
   ]
  },
  {
   "cell_type": "code",
   "execution_count": 8,
   "id": "7ae0fdf3-b280-4cc8-bacc-02c06997905d",
   "metadata": {},
   "outputs": [],
   "source": [
    "class Dice:\n",
    "    def roll(self):\n",
    "        first=random.randint(1, 6)\n",
    "        second=random.randint(1, 6)\n",
    "        return first, second"
   ]
  },
  {
   "cell_type": "code",
   "execution_count": 9,
   "id": "1b8b0bed-3da3-4d80-819c-7d7c94f749ca",
   "metadata": {},
   "outputs": [],
   "source": [
    "dice=Dice()"
   ]
  },
  {
   "cell_type": "code",
   "execution_count": 12,
   "id": "542738b0-869a-4170-8a2e-54cc0776c69b",
   "metadata": {},
   "outputs": [
    {
     "name": "stdout",
     "output_type": "stream",
     "text": [
      "(6, 2)\n"
     ]
    }
   ],
   "source": [
    "print(dice.roll())"
   ]
  },
  {
   "cell_type": "code",
   "execution_count": null,
   "id": "0626f3da-a6f0-4a4a-bc2c-2ace3a361f00",
   "metadata": {},
   "outputs": [],
   "source": []
  }
 ],
 "metadata": {
  "kernelspec": {
   "display_name": "Python 3 (ipykernel)",
   "language": "python",
   "name": "python3"
  },
  "language_info": {
   "codemirror_mode": {
    "name": "ipython",
    "version": 3
   },
   "file_extension": ".py",
   "mimetype": "text/x-python",
   "name": "python",
   "nbconvert_exporter": "python",
   "pygments_lexer": "ipython3",
   "version": "3.11.5"
  }
 },
 "nbformat": 4,
 "nbformat_minor": 5
}
